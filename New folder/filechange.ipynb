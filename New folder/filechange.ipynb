{
 "cells": [
  {
   "cell_type": "code",
   "execution_count": 4,
   "id": "2a8303e0-768a-4eef-a6f7-c1ee66ae0a9c",
   "metadata": {},
   "outputs": [
    {
     "name": "stdout",
     "output_type": "stream",
     "text": [
      "Issue with line: I'm feeling\n",
      "Issue with line: ChatGPT\n",
      "Issue with line: txt\n",
      "Issue with line: Copy code\n",
      "CSV file saved successfully at: data/sentimental_data2.csv\n"
     ]
    }
   ],
   "source": [
    "import os\n",
    "import csv\n",
    "\n",
    "# File paths\n",
    "input_file = \"dataset2.txt\"\n",
    "output_file = \"data/sentimental_data2.csv\"\n",
    "\n",
    "# Ensure the output directory exists\n",
    "output_directory = os.path.dirname(output_file)\n",
    "if not os.path.exists(output_directory):\n",
    "    os.makedirs(output_directory)\n",
    "\n",
    "# Read data from text file\n",
    "dataset = []\n",
    "with open(input_file, mode='r', encoding='utf-8') as file:\n",
    "    for line in file:\n",
    "        line = line.strip()\n",
    "        if line:\n",
    "            parts = line.rsplit(',', 1)  # Split at the last comma\n",
    "            if len(parts) == 2:\n",
    "                text, label = parts\n",
    "                dataset.append((text, label))\n",
    "            else:\n",
    "                # Handle lines that don't split correctly (if needed)\n",
    "                print(f\"Issue with line: {line}\")\n",
    "\n",
    "# Write data to CSV file\n",
    "with open(output_file, mode='w', newline='', encoding='utf-8') as file:\n",
    "    writer = csv.writer(file)\n",
    "    writer.writerow(['text', 'label'])  # Write header\n",
    "    writer.writerows(dataset)  # Write data rows\n",
    "\n",
    "print(f\"CSV file saved successfully at: {output_file}\")\n"
   ]
  },
  {
   "cell_type": "code",
   "execution_count": null,
   "id": "6bb68ef0-b3d1-4bfa-a679-8a12ef164af1",
   "metadata": {},
   "outputs": [],
   "source": []
  }
 ],
 "metadata": {
  "kernelspec": {
   "display_name": "Python 3 (ipykernel)",
   "language": "python",
   "name": "python3"
  },
  "language_info": {
   "codemirror_mode": {
    "name": "ipython",
    "version": 3
   },
   "file_extension": ".py",
   "mimetype": "text/x-python",
   "name": "python",
   "nbconvert_exporter": "python",
   "pygments_lexer": "ipython3",
   "version": "3.11.4"
  }
 },
 "nbformat": 4,
 "nbformat_minor": 5
}
